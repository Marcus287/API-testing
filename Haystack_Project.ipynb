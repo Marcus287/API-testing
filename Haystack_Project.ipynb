{
 "cells": [
  {
   "cell_type": "code",
   "execution_count": 1,
   "id": "1729bfa4-b85a-434c-b31e-b7b9ccb91402",
   "metadata": {},
   "outputs": [],
   "source": [
    "import pandas \n",
    "import pyhaystack\n",
    "import json\n",
    "import logging\n",
    "logging.getLogger().setLevel(logging.INFO)"
   ]
  },
  {
   "cell_type": "code",
   "execution_count": 2,
   "id": "cdf871ff-57ad-4877-8d17-7950b7689280",
   "metadata": {},
   "outputs": [
    {
     "name": "stdout",
     "output_type": "stream",
     "text": [
      "<Grid>\n",
      "\tVersion: 3.0\n",
      "\tColumns:\n",
      "\t\tproductUri\n",
      "\t\ttz\n",
      "\t\tmoduleName\n",
      "\t\tserverName\n",
      "\t\tproductName\n",
      "\t\thaystackVersion\n",
      "\t\tproductVersion\n",
      "\t\tmoduleVersion\n",
      "\t\tserverTime\n",
      "\t\tmoduleUri\n",
      "\t\tserverBootTime\n",
      "\tRow    0:\n",
      "\tproductUri=Uri('http://www.tridium.com/')\n",
      "\ttz='Sydney'\n",
      "\tmoduleName='nhaystack'\n",
      "\tserverName='test'\n",
      "\tproductName='Niagara 4'\n",
      "\thaystackVersion='2.0'\n",
      "\tproductVersion='4.14.0.162'\n",
      "\tmoduleVersion='3.3.0.0'\n",
      "\tserverTime=datetime.datetime(2025, 5, 9, 13, 41, 52, 14000, tzinfo=<DstTzInfo 'Australia/Sydney' AEST+10:00:00 STD>)\n",
      "\tmoduleUri=Uri('https://github.com/ci-richard-mcelhinney/nhaystack')\n",
      "\tserverBootTime=datetime.datetime(2025, 5, 8, 14, 28, 39, 730000, tzinfo=<DstTzInfo 'Australia/Sydney' AEST+10:00:00 STD>)\n",
      "</Grid>\n"
     ]
    }
   ],
   "source": [
    "data = json.load(open(\"haystack-server.json\",\"r\")) # use_ssl = False or True depending on config\n",
    "#Consider using pint = True due to return PintQuantity object for easier query\n",
    "conn = pyhaystack.connect(**data)\n",
    "op = conn.about()\n",
    "op.wait()\n",
    "res= op.result\n",
    "print(res)"
   ]
  },
  {
   "cell_type": "code",
   "execution_count": 3,
   "id": "56b11923-7fc2-4bfc-a6af-3fb33cee010c",
   "metadata": {},
   "outputs": [
    {
     "name": "stdout",
     "output_type": "stream",
     "text": [
      "['C.EMS.Meter_1', 'C.EMS.Meter_2', 'C.EMS.Meter_3']\n",
      "-----------------------------------------\n",
      "{'C.EMS.Meter_1': <@C.EMS.Meter_1: {actions='ver:\"3.0\"\\ndis,expr\\n\"Override\",\"pointOverride($self, $val, $duration)\"\\n\"Auto\",\"pointAuto($self)\"\\n\"Emergency Override\",\"pointEmergencyOverride($self, $val)\"\\n\"Emergency Auto\",\"pointEmergencyAuto($self)\"\\n\"Set\",\"pointSetDef($self, $val)\"\\n', axAnnotated, axSlotPath='slot:/EMS/Meter_1', axStatus='ok', axType='control:NumericWritable', cur, curErr='', curStatus='ok', curVal=PintQuantity(56666.0, <UnitsContainer({'kilowatt_hour': 1})>), dis='Meter_1', energy, his, hisErr='', hisInterpolate='linear', hisStatus='ok', kind='Number', maxVal=inf, minVal=-inf, n4SlotPath='slot:/EMS/Meter_1', navName='Meter_1', point, precision=1.0, tz='Sydney', unit='kWh', writable, writeErr='', writeLevel=10.0, writeStatus='ok', writeVal=56666.0}>, 'C.EMS.Meter_2': <@C.EMS.Meter_2: {actions='ver:\"3.0\"\\ndis,expr\\n\"Override\",\"pointOverride($self, $val, $duration)\"\\n\"Auto\",\"pointAuto($self)\"\\n\"Emergency Override\",\"pointEmergencyOverride($self, $val)\"\\n\"Emergency Auto\",\"pointEmergencyAuto($self)\"\\n\"Set\",\"pointSetDef($self, $val)\"\\n', axSlotPath='slot:/EMS/Meter_2', axStatus='ok', axType='control:NumericWritable', cur, curErr='', curStatus='ok', curVal=PintQuantity(43752.0, <UnitsContainer({'kilowatt_hour': 1})>), dis='Meter_2', energy, hisErr='', hisInterpolate='linear', hisStatus='disabled', kind='Number', maxVal=inf, minVal=-inf, n4SlotPath='slot:/EMS/Meter_2', navName='Meter_2', point, precision=1.0, tz='Sydney', unit='kWh', writable, writeErr='', writeLevel=10.0, writeStatus='ok', writeVal=43752.0}>, 'C.EMS.Meter_3': <@C.EMS.Meter_3: {actions='ver:\"3.0\"\\ndis,expr\\n\"Override\",\"pointOverride($self, $val, $duration)\"\\n\"Auto\",\"pointAuto($self)\"\\n\"Emergency Override\",\"pointEmergencyOverride($self, $val)\"\\n\"Emergency Auto\",\"pointEmergencyAuto($self)\"\\n\"Set\",\"pointSetDef($self, $val)\"\\n', axSlotPath='slot:/EMS/Meter_3', axStatus='ok', axType='control:NumericWritable', cur, curErr='', curStatus='ok', curVal=PintQuantity(43719.0, <UnitsContainer({'kilowatt_hour': 1})>), dis='Meter_3', energy, hisErr='', hisInterpolate='linear', hisStatus='disabled', kind='Number', maxVal=inf, minVal=-inf, n4SlotPath='slot:/EMS/Meter_3', navName='Meter_3', point, precision=1.0, tz='Sydney', unit='kWh', writable, writeErr='', writeLevel=10.0, writeStatus='ok', writeVal=43719.0}>}\n"
     ]
    }
   ],
   "source": [
    "op = conn.find_entity(filter_expr='energy')\n",
    "op.wait()\n",
    "site = op.result\n",
    "print(list(site.keys()))\n",
    "print(\"-----------------------------------------\")\n",
    "print(site)\n"
   ]
  },
  {
   "cell_type": "code",
   "execution_count": 4,
   "id": "8df124b2-6f55-439e-81a9-c229483d1a2d",
   "metadata": {},
   "outputs": [
    {
     "name": "stdout",
     "output_type": "stream",
     "text": [
      "<@C.EMS.Meter_1: {actions='ver:\"3.0\"\\ndis,expr\\n\"Override\",\"pointOverride($self, $val, $duration)\"\\n\"Auto\",\"pointAuto($self)\"\\n\"Emergency Override\",\"pointEmergencyOverride($self, $val)\"\\n\"Emergency Auto\",\"pointEmergencyAuto($self)\"\\n\"Set\",\"pointSetDef($self, $val)\"\\n', axAnnotated, axSlotPath='slot:/EMS/Meter_1', axStatus='ok', axType='control:NumericWritable', cur, curErr='', curStatus='ok', curVal=PintQuantity(56666.0, <UnitsContainer({'kilowatt_hour': 1})>), dis='Meter_1', energy, his, hisErr='', hisInterpolate='linear', hisStatus='ok', kind='Number', maxVal=inf, minVal=-inf, n4SlotPath='slot:/EMS/Meter_1', navName='Meter_1', point, precision=1.0, tz='Sydney', unit='kWh', writable, writeErr='', writeLevel=10.0, writeStatus='ok', writeVal=56666.0}>\n",
      "\n",
      " --------------------------------\n",
      "{actions='ver:\"3.0\"\\ndis,expr\\n\"Override\",\"pointOverride($self, $val, $duration)\"\\n\"Auto\",\"pointAuto($self)\"\\n\"Emergency Override\",\"pointEmergencyOverride($self, $val)\"\\n\"Emergency Auto\",\"pointEmergencyAuto($self)\"\\n\"Set\",\"pointSetDef($self, $val)\"\\n', axAnnotated, axSlotPath='slot:/EMS/Meter_1', axStatus='ok', axType='control:NumericWritable', cur, curErr='', curStatus='ok', curVal=PintQuantity(56666.0, <UnitsContainer({'kilowatt_hour': 1})>), dis='Meter_1', energy, his, hisErr='', hisInterpolate='linear', hisStatus='ok', kind='Number', maxVal=inf, minVal=-inf, n4SlotPath='slot:/EMS/Meter_1', navName='Meter_1', point, precision=1.0, tz='Sydney', unit='kWh', writable, writeErr='', writeLevel=10.0, writeStatus='ok', writeVal=56666.0}\n",
      "----------------------------\n",
      "56666.0 kilowatt_hour\n",
      "---------------------\n",
      "56666.0\n",
      "kilowatt_hour\n"
     ]
    }
   ],
   "source": [
    "meter1 = site['C.EMS.Meter_1']\n",
    "print(meter1)\n",
    "print('\\n --------------------------------')\n",
    "print(meter1.tags)\n",
    "print('----------------------------')\n",
    "print(meter1.tags['curVal'])\n",
    "print('---------------------')\n",
    "print(meter1.tags['curVal'].value)\n",
    "print(meter1.tags['curVal'].unit)"
   ]
  },
  {
   "cell_type": "code",
   "execution_count": 5,
   "id": "444f355a-5626-4739-83b6-bf52619d1fe9",
   "metadata": {},
   "outputs": [
    {
     "name": "stdout",
     "output_type": "stream",
     "text": [
      "C.EMS.Meter_1 has 56666.0 measured by kilowatt_hour\n",
      "C.EMS.Meter_2 has 43752.0 measured by kilowatt_hour\n",
      "C.EMS.Meter_3 has 43719.0 measured by kilowatt_hour\n"
     ]
    }
   ],
   "source": [
    "for meter in list(site.keys()):\n",
    "    values = site[meter]\n",
    "    print(f\"{meter} has {values.tags['curVal'].value} measured by {values.tags['curVal'].unit}\")"
   ]
  },
  {
   "cell_type": "code",
   "execution_count": null,
   "id": "ab0183f0-4233-4012-91d9-cb287f924896",
   "metadata": {},
   "outputs": [
    {
     "name": "stdout",
     "output_type": "stream",
     "text": [
      "C.EMS.Meter_1 has 55249.0 measured by kilowatt_hour\n",
      "C.EMS.Meter_2 has 42335.0 measured by kilowatt_hour\n",
      "C.EMS.Meter_3 has 42302.0 measured by kilowatt_hour\n",
      "C.EMS.Meter_1 has 55259.0 measured by kilowatt_hour\n",
      "C.EMS.Meter_2 has 42345.0 measured by kilowatt_hour\n",
      "C.EMS.Meter_3 has 42312.0 measured by kilowatt_hour\n",
      "C.EMS.Meter_1 has 55269.0 measured by kilowatt_hour\n",
      "C.EMS.Meter_2 has 42355.0 measured by kilowatt_hour\n",
      "C.EMS.Meter_3 has 42322.0 measured by kilowatt_hour\n",
      "C.EMS.Meter_1 has 55278.0 measured by kilowatt_hour\n",
      "C.EMS.Meter_2 has 42364.0 measured by kilowatt_hour\n",
      "C.EMS.Meter_3 has 42331.0 measured by kilowatt_hour\n",
      "C.EMS.Meter_1 has 55288.0 measured by kilowatt_hour\n",
      "C.EMS.Meter_2 has 42374.0 measured by kilowatt_hour\n",
      "C.EMS.Meter_3 has 42341.0 measured by kilowatt_hour\n"
     ]
    }
   ],
   "source": [
    "#Get current data a stores to a database\n",
    "import pandas as pd\n",
    "import time\n",
    "\n",
    "while True:\n",
    "    op = conn.find_entity('energy')\n",
    "    op.wait()\n",
    "    meters = op.result\n",
    "    for meter in list(meters.keys()):\n",
    "        values = meters[meter]\n",
    "        print(f\"{meter} has {values.tags['curVal'].value} measured by {values.tags['curVal'].unit}\")\n",
    "    time.sleep(10)"
   ]
  },
  {
   "cell_type": "markdown",
   "id": "bf993ee4-ac76-4fa3-afaa-ac334199069c",
   "metadata": {},
   "source": [
    "# Read history"
   ]
  },
  {
   "cell_type": "code",
   "execution_count": 6,
   "id": "c9076521-ec65-4cc5-8805-03c39a103476",
   "metadata": {},
   "outputs": [
    {
     "ename": "HaystackError",
     "evalue": "javax.baja.sys.BajaRuntimeException: Could not parse HRef 'energy'.",
     "output_type": "error",
     "traceback": [
      "\u001b[31m---------------------------------------------------------------------------\u001b[39m",
      "\u001b[31mHaystackError\u001b[39m                             Traceback (most recent call last)",
      "\u001b[36mCell\u001b[39m\u001b[36m \u001b[39m\u001b[32mIn[6]\u001b[39m\u001b[32m, line 6\u001b[39m\n\u001b[32m      4\u001b[39m his_id = conn.get_entity(\u001b[33m'\u001b[39m\u001b[33menergy\u001b[39m\u001b[33m'\u001b[39m, single=\u001b[38;5;28;01mTrue\u001b[39;00m)\n\u001b[32m      5\u001b[39m his_id.wait()\n\u001b[32m----> \u001b[39m\u001b[32m6\u001b[39m test = \u001b[43mhis_id\u001b[49m\u001b[43m.\u001b[49m\u001b[43mresult\u001b[49m\n\u001b[32m      7\u001b[39m \u001b[38;5;28mprint\u001b[39m(test)\n",
      "\u001b[36mFile \u001b[39m\u001b[32mC:\\Users\\Marcus\\Desktop\\my_env\\Lib\\site-packages\\pyhaystack\\util\\state.py:100\u001b[39m, in \u001b[36mHaystackOperation.result\u001b[39m\u001b[34m(self)\u001b[39m\n\u001b[32m     97\u001b[39m     \u001b[38;5;28;01mraise\u001b[39;00m NotReadyError()\n\u001b[32m     99\u001b[39m \u001b[38;5;28;01mif\u001b[39;00m \u001b[38;5;28mself\u001b[39m.is_failed:\n\u001b[32m--> \u001b[39m\u001b[32m100\u001b[39m     \u001b[38;5;28;43mself\u001b[39;49m\u001b[43m.\u001b[49m\u001b[43m_result\u001b[49m\u001b[43m.\u001b[49m\u001b[43mreraise\u001b[49m\u001b[43m(\u001b[49m\u001b[43m)\u001b[49m\n\u001b[32m    102\u001b[39m \u001b[38;5;28;01mif\u001b[39;00m \u001b[38;5;129;01mnot\u001b[39;00m \u001b[38;5;28mself\u001b[39m._result_copy:\n\u001b[32m    103\u001b[39m     \u001b[38;5;66;03m# Return the original instance (do not copy)\u001b[39;00m\n\u001b[32m    104\u001b[39m     \u001b[38;5;28;01mreturn\u001b[39;00m \u001b[38;5;28mself\u001b[39m._result\n",
      "\u001b[36mFile \u001b[39m\u001b[32mC:\\Users\\Marcus\\Desktop\\my_env\\Lib\\site-packages\\pyhaystack\\util\\asyncexc.py:29\u001b[39m, in \u001b[36mAsynchronousException.reraise\u001b[39m\u001b[34m(self)\u001b[39m\n\u001b[32m     28\u001b[39m \u001b[38;5;28;01mdef\u001b[39;00m\u001b[38;5;250m \u001b[39m\u001b[34mreraise\u001b[39m(\u001b[38;5;28mself\u001b[39m):\n\u001b[32m---> \u001b[39m\u001b[32m29\u001b[39m     \u001b[43mreraise\u001b[49m\u001b[43m(\u001b[49m\u001b[43m*\u001b[49m\u001b[38;5;28;43mself\u001b[39;49m\u001b[43m.\u001b[49m\u001b[43m_exc_info\u001b[49m\u001b[43m)\u001b[49m\n",
      "\u001b[36mFile \u001b[39m\u001b[32mC:\\Users\\Marcus\\Desktop\\my_env\\Lib\\site-packages\\six.py:724\u001b[39m, in \u001b[36mreraise\u001b[39m\u001b[34m(tp, value, tb)\u001b[39m\n\u001b[32m    722\u001b[39m     \u001b[38;5;28;01mif\u001b[39;00m value.__traceback__ \u001b[38;5;129;01mis\u001b[39;00m \u001b[38;5;129;01mnot\u001b[39;00m tb:\n\u001b[32m    723\u001b[39m         \u001b[38;5;28;01mraise\u001b[39;00m value.with_traceback(tb)\n\u001b[32m--> \u001b[39m\u001b[32m724\u001b[39m     \u001b[38;5;28;01mraise\u001b[39;00m value\n\u001b[32m    725\u001b[39m \u001b[38;5;28;01mfinally\u001b[39;00m:\n\u001b[32m    726\u001b[39m     value = \u001b[38;5;28;01mNone\u001b[39;00m\n",
      "\u001b[36mFile \u001b[39m\u001b[32mC:\\Users\\Marcus\\Desktop\\my_env\\Lib\\site-packages\\pyhaystack\\client\\ops\\entity.py:44\u001b[39m, in \u001b[36mEntityRetrieveOperation._on_read\u001b[39m\u001b[34m(self, operation, **kwargs)\u001b[39m\n\u001b[32m     41\u001b[39m \u001b[38;5;28;01mtry\u001b[39;00m:\n\u001b[32m     42\u001b[39m     \u001b[38;5;66;03m# See if the read succeeded.\u001b[39;00m\n\u001b[32m     43\u001b[39m     \u001b[38;5;28;01mtry\u001b[39;00m:\n\u001b[32m---> \u001b[39m\u001b[32m44\u001b[39m         grid = \u001b[43moperation\u001b[49m\u001b[43m.\u001b[49m\u001b[43mresult\u001b[49m\n\u001b[32m     45\u001b[39m     \u001b[38;5;28;01mexcept\u001b[39;00m HaystackError \u001b[38;5;28;01mas\u001b[39;00m e:\n\u001b[32m     46\u001b[39m         \u001b[38;5;66;03m# Is this a \"not found\" error?\u001b[39;00m\n\u001b[32m     47\u001b[39m         \u001b[38;5;28;01mif\u001b[39;00m \u001b[38;5;28mstr\u001b[39m(e).startswith(\u001b[33m\"\u001b[39m\u001b[33mHNotFoundError\u001b[39m\u001b[33m\"\u001b[39m):\n",
      "\u001b[36mFile \u001b[39m\u001b[32mC:\\Users\\Marcus\\Desktop\\my_env\\Lib\\site-packages\\pyhaystack\\util\\state.py:100\u001b[39m, in \u001b[36mHaystackOperation.result\u001b[39m\u001b[34m(self)\u001b[39m\n\u001b[32m     97\u001b[39m     \u001b[38;5;28;01mraise\u001b[39;00m NotReadyError()\n\u001b[32m     99\u001b[39m \u001b[38;5;28;01mif\u001b[39;00m \u001b[38;5;28mself\u001b[39m.is_failed:\n\u001b[32m--> \u001b[39m\u001b[32m100\u001b[39m     \u001b[38;5;28;43mself\u001b[39;49m\u001b[43m.\u001b[49m\u001b[43m_result\u001b[49m\u001b[43m.\u001b[49m\u001b[43mreraise\u001b[49m\u001b[43m(\u001b[49m\u001b[43m)\u001b[49m\n\u001b[32m    102\u001b[39m \u001b[38;5;28;01mif\u001b[39;00m \u001b[38;5;129;01mnot\u001b[39;00m \u001b[38;5;28mself\u001b[39m._result_copy:\n\u001b[32m    103\u001b[39m     \u001b[38;5;66;03m# Return the original instance (do not copy)\u001b[39;00m\n\u001b[32m    104\u001b[39m     \u001b[38;5;28;01mreturn\u001b[39;00m \u001b[38;5;28mself\u001b[39m._result\n",
      "\u001b[36mFile \u001b[39m\u001b[32mC:\\Users\\Marcus\\Desktop\\my_env\\Lib\\site-packages\\pyhaystack\\util\\asyncexc.py:29\u001b[39m, in \u001b[36mAsynchronousException.reraise\u001b[39m\u001b[34m(self)\u001b[39m\n\u001b[32m     28\u001b[39m \u001b[38;5;28;01mdef\u001b[39;00m\u001b[38;5;250m \u001b[39m\u001b[34mreraise\u001b[39m(\u001b[38;5;28mself\u001b[39m):\n\u001b[32m---> \u001b[39m\u001b[32m29\u001b[39m     \u001b[43mreraise\u001b[49m\u001b[43m(\u001b[49m\u001b[43m*\u001b[49m\u001b[38;5;28;43mself\u001b[39;49m\u001b[43m.\u001b[49m\u001b[43m_exc_info\u001b[49m\u001b[43m)\u001b[49m\n",
      "\u001b[36mFile \u001b[39m\u001b[32mC:\\Users\\Marcus\\Desktop\\my_env\\Lib\\site-packages\\six.py:724\u001b[39m, in \u001b[36mreraise\u001b[39m\u001b[34m(tp, value, tb)\u001b[39m\n\u001b[32m    722\u001b[39m     \u001b[38;5;28;01mif\u001b[39;00m value.__traceback__ \u001b[38;5;129;01mis\u001b[39;00m \u001b[38;5;129;01mnot\u001b[39;00m tb:\n\u001b[32m    723\u001b[39m         \u001b[38;5;28;01mraise\u001b[39;00m value.with_traceback(tb)\n\u001b[32m--> \u001b[39m\u001b[32m724\u001b[39m     \u001b[38;5;28;01mraise\u001b[39;00m value\n\u001b[32m    725\u001b[39m \u001b[38;5;28;01mfinally\u001b[39;00m:\n\u001b[32m    726\u001b[39m     value = \u001b[38;5;28;01mNone\u001b[39;00m\n",
      "\u001b[36mFile \u001b[39m\u001b[32mC:\\Users\\Marcus\\Desktop\\my_env\\Lib\\site-packages\\pyhaystack\\client\\ops\\grid.py:335\u001b[39m, in \u001b[36mBaseGridOperation._on_response.<locals>._check_err\u001b[39m\u001b[34m(grid)\u001b[39m\n\u001b[32m    333\u001b[39m \u001b[38;5;28;01mtry\u001b[39;00m:\n\u001b[32m    334\u001b[39m     \u001b[38;5;28;01mif\u001b[39;00m \u001b[33m\"\u001b[39m\u001b[33merr\u001b[39m\u001b[33m\"\u001b[39m \u001b[38;5;129;01min\u001b[39;00m grid.metadata:\n\u001b[32m--> \u001b[39m\u001b[32m335\u001b[39m         \u001b[38;5;28;01mraise\u001b[39;00m HaystackError(\n\u001b[32m    336\u001b[39m             grid.metadata.get(\u001b[33m\"\u001b[39m\u001b[33mdis\u001b[39m\u001b[33m\"\u001b[39m, \u001b[33m\"\u001b[39m\u001b[33mUnknown Error\u001b[39m\u001b[33m\"\u001b[39m),\n\u001b[32m    337\u001b[39m             grid.metadata.get(\u001b[33m\"\u001b[39m\u001b[33mtraceback\u001b[39m\u001b[33m\"\u001b[39m, \u001b[38;5;28;01mNone\u001b[39;00m),\n\u001b[32m    338\u001b[39m         )\n\u001b[32m    339\u001b[39m     \u001b[38;5;28;01mreturn\u001b[39;00m grid\n\u001b[32m    340\u001b[39m \u001b[38;5;28;01mexcept\u001b[39;00m:\n",
      "\u001b[31mHaystackError\u001b[39m: javax.baja.sys.BajaRuntimeException: Could not parse HRef 'energy'."
     ]
    }
   ],
   "source": [
    "#grid = conn.find_entity(filter_expr='his')\n",
    "#print(grid) -> Only print out Meter 1 which is correct\n",
    "\n",
    "his_id = conn.get_entity('energy', single=True)\n",
    "his_id.wait()\n",
    "test = his_id.result\n",
    "print(test)"
   ]
  },
  {
   "cell_type": "code",
   "execution_count": 7,
   "id": "e781c0be-af4b-450e-8c58-6f67571facf1",
   "metadata": {},
   "outputs": [
    {
     "name": "stdout",
     "output_type": "stream",
     "text": [
      "Connection successfull. Data Received:\n",
      "Failed to connect or query data:\n",
      "'GetGridOperation' object is not iterable\n"
     ]
    }
   ],
   "source": [
    "try:\n",
    "    #grid = conn.read('point and sensor')\n",
    "    print(\"Connection successfull. Data Received:\")\n",
    "    for row in grid:\n",
    "        print(f\"-> {row.dis}: {row['curVal']} {row.get('unit', '')}\")\n",
    "except Exception as e:\n",
    "    print(\"Failed to connect or query data:\")\n",
    "    print(str(e))"
   ]
  }
 ],
 "metadata": {
  "kernelspec": {
   "display_name": "Python (myenv)",
   "language": "python",
   "name": "myenv"
  },
  "language_info": {
   "codemirror_mode": {
    "name": "ipython",
    "version": 3
   },
   "file_extension": ".py",
   "mimetype": "text/x-python",
   "name": "python",
   "nbconvert_exporter": "python",
   "pygments_lexer": "ipython3",
   "version": "3.13.3"
  }
 },
 "nbformat": 4,
 "nbformat_minor": 5
}
