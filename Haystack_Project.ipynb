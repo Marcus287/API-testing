{
 "cells": [
  {
   "cell_type": "code",
   "execution_count": 5,
   "id": "1729bfa4-b85a-434c-b31e-b7b9ccb91402",
   "metadata": {},
   "outputs": [],
   "source": [
    "import pandas \n",
    "import pyhaystack\n",
    "import json\n",
    "import logging\n",
    "logging.getLogger().setLevel(logging.INFO)"
   ]
  },
  {
   "cell_type": "code",
   "execution_count": 6,
   "id": "cdf871ff-57ad-4877-8d17-7950b7689280",
   "metadata": {},
   "outputs": [],
   "source": [
    "#data = json.load(open(\"haystack-server.json\",\"r\"))\n",
    "#conn = pyhaystack.connect(**data)"
   ]
  },
  {
   "cell_type": "code",
   "execution_count": 9,
   "id": "3d82113e-5076-4987-b7e7-2163ee78ba1c",
   "metadata": {},
   "outputs": [],
   "source": [
    "from pyhaystack.client.niagara import Niagara4HaystackSession\n",
    "session = Niagara4HaystackSession(uri=\"http://192.168.1.172\",\n",
    "                                  username='admin',\n",
    "                                  password='ELLsec2023$',\n",
    "                                  pint=True)"
   ]
  },
  {
   "cell_type": "code",
   "execution_count": 10,
   "id": "e037da88-b9b2-40ae-8eeb-9a944627ea57",
   "metadata": {},
   "outputs": [
    {
     "name": "stdout",
     "output_type": "stream",
     "text": [
      "<Grid>\n",
      "\tVersion: 3.0\n",
      "\tColumns:\n",
      "\t\tproductUri\n",
      "\t\ttz\n",
      "\t\tmoduleName\n",
      "\t\tserverName\n",
      "\t\tproductName\n",
      "\t\thaystackVersion\n",
      "\t\tproductVersion\n",
      "\t\tmoduleVersion\n",
      "\t\tserverTime\n",
      "\t\tmoduleUri\n",
      "\t\tserverBootTime\n",
      "\tRow    0:\n",
      "\tproductUri=Uri('http://www.tridium.com/')\n",
      "\ttz='Sydney'\n",
      "\tmoduleName='nhaystack'\n",
      "\tserverName='test'\n",
      "\tproductName='Niagara 4'\n",
      "\thaystackVersion='2.0'\n",
      "\tproductVersion='4.14.0.162'\n",
      "\tmoduleVersion='3.3.0.0'\n",
      "\tserverTime=datetime.datetime(2025, 5, 8, 15, 42, 4, 228000, tzinfo=<DstTzInfo 'Australia/Sydney' AEST+10:00:00 STD>)\n",
      "\tmoduleUri=Uri('https://github.com/ci-richard-mcelhinney/nhaystack')\n",
      "\tserverBootTime=datetime.datetime(2025, 5, 8, 14, 28, 39, 730000, tzinfo=<DstTzInfo 'Australia/Sydney' AEST+10:00:00 STD>)\n",
      "</Grid>\n"
     ]
    }
   ],
   "source": [
    "op = session.about()\n",
    "op.wait()\n",
    "\n",
    "res = op.result\n",
    "print(res)"
   ]
  },
  {
   "cell_type": "code",
   "execution_count": 10,
   "id": "d757060c-93b4-4257-b3d3-4411ba19c387",
   "metadata": {},
   "outputs": [
    {
     "name": "stdout",
     "output_type": "stream",
     "text": [
      "<GetGridOperation failed>\n"
     ]
    }
   ],
   "source": [
    "print(op)"
   ]
  },
  {
   "cell_type": "code",
   "execution_count": null,
   "id": "3e8aa72e-1238-4090-9b23-f6e99c5e8095",
   "metadata": {},
   "outputs": [],
   "source": []
  }
 ],
 "metadata": {
  "kernelspec": {
   "display_name": "Python (myenv)",
   "language": "python",
   "name": "myenv"
  },
  "language_info": {
   "codemirror_mode": {
    "name": "ipython",
    "version": 3
   },
   "file_extension": ".py",
   "mimetype": "text/x-python",
   "name": "python",
   "nbconvert_exporter": "python",
   "pygments_lexer": "ipython3",
   "version": "3.13.3"
  }
 },
 "nbformat": 4,
 "nbformat_minor": 5
}
